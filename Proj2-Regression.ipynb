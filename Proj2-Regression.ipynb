{
 "cells": [
  {
   "cell_type": "code",
   "execution_count": 1,
   "metadata": {},
   "outputs": [],
   "source": [
    "import numpy as np\n",
    "%matplotlib inline\n",
    "import matplotlib as mpl\n",
    "import matplotlib.pyplot as plt\n",
    "from scipy import special"
   ]
  },
  {
   "cell_type": "code",
   "execution_count": 34,
   "metadata": {},
   "outputs": [],
   "source": [
    "t = np.array([-0.49,  0.48, -0.19,  0.24, -0.08,  0.49, -0.21, -0.16, -0.13,\n",
    "        0.5 ,  0.09,  0.14, -0.27,  0.01,  0.37, -0.42, -0.45, -0.14,\n",
    "        0.17,  0.14, -0.38,  0.18, -0.45, -0.3 , -0.12,  0.02, -0.11,\n",
    "        0.38, -0.01,  0.12,  0.44,  0.32,  0.2 , -0.26,  0.04,  0.23,\n",
    "        0.18,  0.14,  0.15, -0.21, -0.41,  0.06, -0.25, -0.31, -0.42,\n",
    "       -0.09,  0.34, -0.05,  0.21,  0.26,  0.27,  0.27, -0.28, -0.49,\n",
    "        0.01,  0.29, -0.15,  0.34,  0.49,  0.03, -0.12,  0.15, -0.02,\n",
    "       -0.02,  0.24,  0.47, -0.06,  0.34, -0.29, -0.43, -0.09,  0.14,\n",
    "        0.23,  0.23,  0.08,  0.12, -0.42, -0.12, -0.19,  0.45, -0.36,\n",
    "       -0.08,  0.13, -0.16,  0.23,  0.44,  0.5 , -0.3 ,  0.45, -0.24,\n",
    "       -0.42,  0.28,  0.11, -0.47,  0.11, -0.27,  0.41,  0.46, -0.36,\n",
    "       -0.32, -0.05,  0.45, -0.08, -0.39, -0.34, -0.37,  0.32, -0.24,\n",
    "       -0.44, -0.03, -0.4 ,  0.47,  0.27, -0.32, -0.2 , -0.37, -0.13,\n",
    "       -0.07,  0.08, -0.44, -0.44,  0.43, -0.04,  0.09,  0.35, -0.02,\n",
    "       -0.12,  0.42, -0.39, -0.25, -0.45,  0.44, -0.02,  0.31, -0.48,\n",
    "        0.23, -0.07, -0.17,  0.4 ,  0.35, -0.2 ,  0.45, -0.1 ,  0.17,\n",
    "        0.21, -0.11, -0.3 ,  0.48,  0.31,  0.21,  0.2 ,  0.27,  0.47,\n",
    "       -0.39,  0.46,  0.31,  0.23,  0.5 , -0.43,  0.13, -0.34,  0.02,\n",
    "       -0.27,  0.3 , -0.18,  0.41,  0.17, -0.15,  0.29, -0.05, -0.39,\n",
    "        0.25,  0.28,  0.02, -0.21,  0.11,  0.16,  0.47,  0.1 ,  0.03,\n",
    "        0.22,  0.43,  0.16, -0.21, -0.16,  0.39,  0.25,  0.04, -0.4 ,\n",
    "        0.22,  0.46,  0.12,  0.15,  0.48, -0.48, -0.15, -0.42,  0.28,\n",
    "       -0.36,  0.31])\n",
    "\n",
    "y = np.array([-0.06, -0.09, -0.19,  0.  , -0.03, -0.18, -0.12, -0.31, -0.17,\n",
    "       -0.18,  0.09,  0.16, -0.28,  0.15, -0.04,  0.04,  0.06, -0.28,\n",
    "        0.18,  0.11,  0.27,  0.34,  0.11, -0.22, -0.18,  0.39, -0.29,\n",
    "       -0.06,  0.1 ,  0.08, -0.  , -0.02,  0.06, -0.35,  0.16,  0.28,\n",
    "       -0.03,  0.17,  0.37, -0.15,  0.19,  0.21, -0.29, -0.33,  0.08,\n",
    "       -0.24,  0.06,  0.02,  0.26,  0.07,  0.1 ,  0.09, -0.52,  0.03,\n",
    "        0.3 ,  0.1 , -0.15, -0.26, -0.26,  0.1 , -0.27,  0.11,  0.02,\n",
    "        0.1 ,  0.09, -0.23, -0.03, -0.21, -0.4 , -0.04, -0.17,  0.07,\n",
    "        0.08,  0.15,  0.27,  0.41,  0.07, -0.31, -0.29, -0.3 ,  0.06,\n",
    "       -0.1 ,  0.08, -0.29,  0.07, -0.2 ,  0.06, -0.25, -0.13, -0.34,\n",
    "        0.05,  0.21,  0.07,  0.13,  0.32, -0.26, -0.01, -0.17, -0.31,\n",
    "       -0.21,  0.11, -0.1 , -0.01,  0.16, -0.01,  0.1 , -0.1 , -0.28,\n",
    "        0.08, -0.09,  0.04, -0.07, -0.11, -0.35, -0.23,  0.05, -0.25,\n",
    "       -0.12,  0.15,  0.01,  0.17,  0.02, -0.01,  0.04, -0.21,  0.03,\n",
    "       -0.15,  0.08,  0.08, -0.38,  0.19, -0.18,  0.13, -0.03,  0.1 ,\n",
    "        0.1 , -0.05, -0.29, -0.36,  0.12, -0.42, -0.32, -0.  ,  0.22,\n",
    "        0.  , -0.36, -0.33,  0.06, -0.04,  0.18, -0.08, -0.22, -0.25,\n",
    "        0.09, -0.03, -0.17,  0.02, -0.09,  0.13,  0.24, -0.04,  0.15,\n",
    "       -0.44, -0.02, -0.24,  0.09,  0.17, -0.35, -0.15, -0.1 ,  0.08,\n",
    "        0.  ,  0.09,  0.22, -0.38,  0.06,  0.14, -0.26,  0.19,  0.41,\n",
    "        0.13, -0.13,  0.3 , -0.15, -0.02, -0.09, -0.07,  0.31,  0.04,\n",
    "       -0.02, -0.05,  0.07,  0.16, -0.21,  0.01, -0.2 , -0.09,  0.11,\n",
    "        0.08, -0.  ])"
   ]
  },
  {
   "cell_type": "code",
   "execution_count": 3,
   "metadata": {},
   "outputs": [
    {
     "data": {
      "text/plain": [
       "Text(0, 0.5, 'y')"
      ]
     },
     "execution_count": 3,
     "metadata": {},
     "output_type": "execute_result"
    },
    {
     "data": {
      "image/png": "[encoded data removed]",
      "text/plain": [
       "<Figure size 432x288 with 1 Axes>"
      ]
     },
     "metadata": {
      "needs_background": "light"
     },
     "output_type": "display_data"
    }
   ],
   "source": [
    "plt.plot(t, y, '.')\n",
    "plt.xlabel('t')\n",
    "plt.ylabel('y')"
   ]
  },
  {
   "cell_type": "code",
   "execution_count": 4,
   "metadata": {},
   "outputs": [],
   "source": [
    "def fourier(t, p):\n",
    "    n = t.size\n",
    "    return np.stack(\n",
    "        [np.cos(f * 2*np.pi*t) for f in range(0, (p+1)//2)] +\n",
    "        [np.sin(f * 2*np.pi*t) for f in range(1, (p+2)//2)])"
   ]
  },
  {
   "cell_type": "code",
   "execution_count": 5,
   "metadata": {},
   "outputs": [],
   "source": [
    "def legendre(t, p):\n",
    "    n = t.size\n",
    "    return np.stack(\n",
    "        [special.legendre(d)(t) for d in range(p)])"
   ]
  },
  {
   "cell_type": "markdown",
   "metadata": {},
   "source": [
    "### Compute performance measure (cost function - MSE)\n",
    "### Measure average cross-validated MSE. "
   ]
  },
  {
   "cell_type": "code",
   "execution_count": 224,
   "metadata": {},
   "outputs": [],
   "source": [
    "def find_ground_truth(feature,p,n_folds):\n",
    "    n=200        \n",
    "    mse_val = 0\n",
    "    mse_val_total = 0\n",
    "    \n",
    "    scores_svm = []\n",
    "    scores_svm_val =0\n",
    "    scores_svm_val_total = 0\n",
    "    \n",
    "    arr_mse = [];    \n",
    "    arr_svr = [];\n",
    "    \n",
    "    dict = {};  # Store index of MSE values using dictionary\n",
    "    \n",
    "    for j in range(1,p+1):   #Iterate through Features\n",
    "        mse_val = 0;        \n",
    "        X = feature(t,j+1)    #Get X for given model                                \n",
    "        for train_index, test_index in folds.split(X.T,y):    #Iterate through folds\n",
    "            \n",
    "            X_train, X_test, y_train, y_test = X[:,train_index], X[:,test_index], \\\n",
    "                                               y[train_index], y[test_index]\n",
    "           \n",
    "            theta_hat=np.linalg.inv(X_train @ X_train.T) @ X_train @ y_train  # fit-train model\n",
    "            y_predict = theta_hat @ X_test             \n",
    "            mse_val += ((y_test - y_predict)**2).mean()  # compute cost function                  \n",
    "        \n",
    "        mse_val_total = mse_val/n_folds;        \n",
    "                \n",
    "        dict.update({mse_val_total:j})\n",
    "        arr_mse.append(mse_val_total)       \n",
    "                \n",
    "        plt.plot(t,theta_hat @ X, '.',label=str(j))\n",
    "        plt.legend(fontsize=7, loc=\"right\")\n",
    "    return arr_mse,dict;"
   ]
  },
  {
   "cell_type": "markdown",
   "metadata": {},
   "source": [
    "### Use 10-fold cross-validation to compare models. "
   ]
  },
  {
   "cell_type": "code",
   "execution_count": 16,
   "metadata": {},
   "outputs": [],
   "source": [
    "from sklearn.model_selection import KFold\n",
    "folds = KFold(n_splits=n_of_splits)"
   ]
  },
  {
   "cell_type": "code",
   "execution_count": 159,
   "metadata": {},
   "outputs": [],
   "source": [
    "n_of_splits = 5\n",
    "n_of_features = 5"
   ]
  },
  {
   "cell_type": "markdown",
   "metadata": {},
   "source": [
    "### Output: best model and best p."
   ]
  },
  {
   "cell_type": "code",
   "execution_count": 153,
   "metadata": {
    "scrolled": false
   },
   "outputs": [
    {
     "name": "stdout",
     "output_type": "stream",
     "text": [
      "Min Score: 0.014012158251002462\n"
     ]
    },
    {
     "data": {
      "image/png": "[encoded data removed]",
      "text/plain": [
       "<Figure size 432x288 with 1 Axes>"
      ]
     },
     "metadata": {
      "needs_background": "light"
     },
     "output_type": "display_data"
    },
    {
     "name": "stdout",
     "output_type": "stream",
     "text": [
      "Min Score: 0.015759456113231\n"
     ]
    },
    {
     "data": {
      "image/png": "[encoded data removed]",
      "text/plain": [
       "<Figure size 432x288 with 1 Axes>"
      ]
     },
     "metadata": {
      "needs_background": "light"
     },
     "output_type": "display_data"
    },
    {
     "name": "stdout",
     "output_type": "stream",
     "text": [
      "Best Model : Fourier\n",
      "Number of Feature(s):  5  Min MSE: 0.014012158251002462\n"
     ]
    }
   ],
   "source": [
    "fourier_mse,fourier_dict = find_ground_truth(fourier,n_of_features,n_of_splits)\n",
    "fourier_min_mse=min(fourier_mse);    \n",
    "    \n",
    "plt.plot(t, y, '.') \n",
    "plt.title(\"Features in Fourier Model\")\n",
    "plt.show()\n",
    "\n",
    "legendre_mse,legendre_dict = find_ground_truth(legendre,n_of_features,n_of_splits)\n",
    "legendre_min_mse=min(legendre_mse);\n",
    "\n",
    "plt.plot(t, y, '.') \n",
    "plt.title(\"Features in Legendre Model\")\n",
    "plt.show()\n",
    "\n",
    "\n",
    "if(fourier_min_mse < legendre_min_mse):\n",
    "    print('Best Model : Fourier\\nNumber of Feature(s): ',fourier_dict.get(fourier_min_mse), ' Min MSE:',fourier_min_mse)\n",
    "else:\n",
    "    print('Best Model : Legegndre\\nNumber of Feature(s): ', legendre_dict.get(legendre_min_mse), ' Min MSE:',legendre_min_mse)    "
   ]
  },
  {
   "cell_type": "markdown",
   "metadata": {},
   "source": [
    "### Cross Validation Score for different Models"
   ]
  },
  {
   "cell_type": "code",
   "execution_count": 291,
   "metadata": {},
   "outputs": [],
   "source": [
    "from sklearn.model_selection import cross_val_score"
   ]
  },
  {
   "cell_type": "markdown",
   "metadata": {},
   "source": [
    ">Logistic, RandomForest and SV Models will not be useful since this is not classification problem."
   ]
  },
  {
   "cell_type": "markdown",
   "metadata": {},
   "source": [
    "#### LinearRegression Model"
   ]
  },
  {
   "cell_type": "code",
   "execution_count": 292,
   "metadata": {},
   "outputs": [],
   "source": [
    "from sklearn.linear_model import LinearRegression"
   ]
  },
  {
   "cell_type": "code",
   "execution_count": 293,
   "metadata": {},
   "outputs": [
    {
     "data": {
      "text/plain": [
       "0.625961574846807"
      ]
     },
     "execution_count": 293,
     "metadata": {},
     "output_type": "execute_result"
    }
   ],
   "source": [
    "np.mean(cross_val_score(LinearRegression(), legendre(t,20).T, y, scoring='r2', cv=10))"
   ]
  },
  {
   "cell_type": "markdown",
   "metadata": {},
   "source": [
    "#### SVR Model"
   ]
  },
  {
   "cell_type": "code",
   "execution_count": 294,
   "metadata": {},
   "outputs": [],
   "source": [
    "from sklearn.svm import SVR\n",
    "from sklearn.metrics import mean_squared_error"
   ]
  },
  {
   "cell_type": "code",
   "execution_count": 295,
   "metadata": {},
   "outputs": [
    {
     "data": {
      "text/plain": [
       "0.6000705718453085"
      ]
     },
     "execution_count": 295,
     "metadata": {},
     "output_type": "execute_result"
    }
   ],
   "source": [
    "np.mean(cross_val_score(SVR(gamma='auto'), fourier(t,20).T, y,cv=10))"
   ]
  },
  {
   "cell_type": "markdown",
   "metadata": {},
   "source": [
    "#### Putting eveything togather"
   ]
  },
  {
   "cell_type": "code",
   "execution_count": 267,
   "metadata": {},
   "outputs": [],
   "source": [
    "folds=6\n",
    "features=5"
   ]
  },
  {
   "cell_type": "code",
   "execution_count": 280,
   "metadata": {},
   "outputs": [],
   "source": [
    "def check_accuracy(features,folds,model):\n",
    "    arr_svr = [];\n",
    "    dict = {};  \n",
    "    for j in range(1,p+1):\n",
    "        if(model== \"SVM\"):\n",
    "            score=np.mean(cross_val_score(SVR(gamma='auto'), features(t,j).T, y,cv=folds))            \n",
    "        else:\n",
    "            score=np.mean(cross_val_score(LinearRegression(), legendre(t,20).T, y, scoring='r2', cv=10))\n",
    "        arr_svr.append(score)\n",
    "        dict.update({score:j})    \n",
    "    return dict,arr_svr;"
   ]
  },
  {
   "cell_type": "code",
   "execution_count": 289,
   "metadata": {},
   "outputs": [],
   "source": [
    "def check_models(model):\n",
    "    dict_fourier,arr_f_score = check_accuracy(fourier,features,model)\n",
    "    dict_legendre,arr_l_score = check_accuracy(legendre,features,model)\n",
    "\n",
    "    max_f_score=max(arr_f_score)\n",
    "    max_l_score=max(arr_l_score)\n",
    "\n",
    "    if(max_f_score>max_l_score):\n",
    "        print('\\nModel:',model,'\\nMethod: Fourier \\nAccuracy: ',max_f_score, 'Features:',dict_fourier.get(max_f_score))\n",
    "    else:\n",
    "        print('\\nModel:',model,'\\nMethod: Legendre \\nAccuracy: ',max_l_score, 'Features:',dict_fourier.get(max_l_score))\n",
    "    return;"
   ]
  },
  {
   "cell_type": "code",
   "execution_count": 290,
   "metadata": {},
   "outputs": [
    {
     "name": "stdout",
     "output_type": "stream",
     "text": [
      "\n",
      "Model: Linear Regression \n",
      "Method: Legendre \n",
      "Accuracy:  0.625961574846807 Features: 15\n",
      "\n",
      "Model: SVM \n",
      "Method: Fourier \n",
      "Accuracy:  0.6675567648992817 Features: 6\n"
     ]
    }
   ],
   "source": [
    "check_models(\"Linear Regression\")\n",
    "check_models(\"SVM\")"
   ]
  },
  {
   "cell_type": "markdown",
   "metadata": {},
   "source": [
    "### Hyperparameter Tuning Using Grid Search Cross-Validation\n",
    "\n",
    "#### A common use of cross-validation is for tuning hyperparameters of a model. The most common technique is what is called grid search cross-validation"
   ]
  },
  {
   "cell_type": "code",
   "execution_count": 232,
   "metadata": {},
   "outputs": [],
   "source": [
    "from sklearn.model_selection import GridSearchCV\n",
    "from sklearn.linear_model import LinearRegression\n",
    "from sklearn import linear_model"
   ]
  },
  {
   "cell_type": "code",
   "execution_count": 233,
   "metadata": {},
   "outputs": [],
   "source": [
    "# create a cross-validation scheme\n",
    "folds = KFold(n_splits = 5, shuffle = True, random_state = 100)\n",
    "\n",
    "# specify range of hyperparameters to tune\n",
    "hyper_params = [{'n_features_to_select': list(range(1, 6))}]"
   ]
  },
  {
   "cell_type": "code",
   "execution_count": 234,
   "metadata": {},
   "outputs": [
    {
     "name": "stdout",
     "output_type": "stream",
     "text": [
      "r2 / variance :  0.6145568248069132\n",
      "Residual sum of squares: 0.02\n"
     ]
    },
    {
     "name": "stderr",
     "output_type": "stream",
     "text": [
      "C:\\Users\\cinni\\Anaconda3\\lib\\site-packages\\sklearn\\model_selection\\_split.py:1978: FutureWarning: The default value of cv will change from 3 to 5 in version 0.22. Specify it explicitly to silence this warning.\n",
      "  warnings.warn(CV_WARNING, FutureWarning)\n"
     ]
    }
   ],
   "source": [
    "from sklearn.model_selection import train_test_split\n",
    "from sklearn.feature_selection import RFE\n",
    "\n",
    "X_train, X_test, y_train, y_test = train_test_split(X.T, y, \n",
    "    test_size=0.3,random_state =1)\n",
    "model = linear_model.LinearRegression()\n",
    "parameters = {'fit_intercept':[True,False], 'normalize':[True,False], 'copy_X':[True, False]}\n",
    "grid = GridSearchCV(model,parameters, cv=None)\n",
    "grid.fit(X_train, y_train)\n",
    "print ('r2 / variance : ', grid.best_score_)\n",
    "print(\"Residual sum of squares: %.2f\"\n",
    "              % np.mean((grid.predict(X_test) - y_test) ** 2))"
   ]
  },
  {
   "cell_type": "markdown",
   "metadata": {},
   "source": [
    "#### The Recursive Feature Elimination (RFE) method works by recursively removing attributes and building a model on those attributes that remain. It uses accuracy metric to rank the feature according to their importance. The RFE method takes the model to be used and the number of required features as input."
   ]
  },
  {
   "cell_type": "code",
   "execution_count": 195,
   "metadata": {},
   "outputs": [],
   "source": [
    "from sklearn.feature_selection import RFE"
   ]
  },
  {
   "cell_type": "code",
   "execution_count": 365,
   "metadata": {},
   "outputs": [],
   "source": [
    "# perform grid search\n",
    "# 3.1 specify model\n",
    "lm = LinearRegression()\n",
    "lm.fit(X_train, y_train)\n",
    "rfe = RFE(lm)  "
   ]
  },
  {
   "cell_type": "code",
   "execution_count": 370,
   "metadata": {},
   "outputs": [
    {
     "name": "stdout",
     "output_type": "stream",
     "text": [
      "Fitting 5 folds for each of 5 candidates, totalling 25 fits\n"
     ]
    },
    {
     "name": "stderr",
     "output_type": "stream",
     "text": [
      "[Parallel(n_jobs=1)]: Using backend SequentialBackend with 1 concurrent workers.\n",
      "[Parallel(n_jobs=1)]: Done  25 out of  25 | elapsed:    0.1s finished\n"
     ]
    },
    {
     "data": {
      "text/html": [
       "<div>\n",
       "<style scoped>\n",
       "    .dataframe tbody tr th:only-of-type {\n",
       "        vertical-align: middle;\n",
       "    }\n",
       "\n",
       "    .dataframe tbody tr th {\n",
       "        vertical-align: top;\n",
       "    }\n",
       "\n",
       "    .dataframe thead th {\n",
       "        text-align: right;\n",
       "    }\n",
       "</style>\n",
       "<table border=\"1\" class=\"dataframe\">\n",
       "  <thead>\n",
       "    <tr style=\"text-align: right;\">\n",
       "      <th></th>\n",
       "      <th>mean_fit_time</th>\n",
       "      <th>std_fit_time</th>\n",
       "      <th>mean_score_time</th>\n",
       "      <th>std_score_time</th>\n",
       "      <th>param_n_features_to_select</th>\n",
       "      <th>params</th>\n",
       "      <th>split0_test_score</th>\n",
       "      <th>split1_test_score</th>\n",
       "      <th>split2_test_score</th>\n",
       "      <th>split3_test_score</th>\n",
       "      <th>...</th>\n",
       "      <th>mean_test_score</th>\n",
       "      <th>std_test_score</th>\n",
       "      <th>rank_test_score</th>\n",
       "      <th>split0_train_score</th>\n",
       "      <th>split1_train_score</th>\n",
       "      <th>split2_train_score</th>\n",
       "      <th>split3_train_score</th>\n",
       "      <th>split4_train_score</th>\n",
       "      <th>mean_train_score</th>\n",
       "      <th>std_train_score</th>\n",
       "    </tr>\n",
       "  </thead>\n",
       "  <tbody>\n",
       "    <tr>\n",
       "      <td>0</td>\n",
       "      <td>0.006249</td>\n",
       "      <td>0.007654</td>\n",
       "      <td>0.000000</td>\n",
       "      <td>0.000000</td>\n",
       "      <td>1</td>\n",
       "      <td>{'n_features_to_select': 1}</td>\n",
       "      <td>0.138900</td>\n",
       "      <td>0.277623</td>\n",
       "      <td>0.129906</td>\n",
       "      <td>0.058850</td>\n",
       "      <td>...</td>\n",
       "      <td>0.204397</td>\n",
       "      <td>0.127639</td>\n",
       "      <td>3</td>\n",
       "      <td>0.332839</td>\n",
       "      <td>0.295554</td>\n",
       "      <td>0.311019</td>\n",
       "      <td>0.323215</td>\n",
       "      <td>0.205596</td>\n",
       "      <td>0.293645</td>\n",
       "      <td>0.045757</td>\n",
       "    </tr>\n",
       "    <tr>\n",
       "      <td>1</td>\n",
       "      <td>0.010683</td>\n",
       "      <td>0.009038</td>\n",
       "      <td>0.000000</td>\n",
       "      <td>0.000000</td>\n",
       "      <td>2</td>\n",
       "      <td>{'n_features_to_select': 2}</td>\n",
       "      <td>0.117644</td>\n",
       "      <td>0.374165</td>\n",
       "      <td>0.016898</td>\n",
       "      <td>-0.160766</td>\n",
       "      <td>...</td>\n",
       "      <td>0.153638</td>\n",
       "      <td>0.218430</td>\n",
       "      <td>5</td>\n",
       "      <td>0.395089</td>\n",
       "      <td>0.337541</td>\n",
       "      <td>0.382904</td>\n",
       "      <td>0.443917</td>\n",
       "      <td>0.286032</td>\n",
       "      <td>0.369097</td>\n",
       "      <td>0.053591</td>\n",
       "    </tr>\n",
       "    <tr>\n",
       "      <td>2</td>\n",
       "      <td>0.006241</td>\n",
       "      <td>0.007643</td>\n",
       "      <td>0.000000</td>\n",
       "      <td>0.000000</td>\n",
       "      <td>3</td>\n",
       "      <td>{'n_features_to_select': 3}</td>\n",
       "      <td>0.297021</td>\n",
       "      <td>0.299018</td>\n",
       "      <td>0.072815</td>\n",
       "      <td>-0.145665</td>\n",
       "      <td>...</td>\n",
       "      <td>0.200745</td>\n",
       "      <td>0.216136</td>\n",
       "      <td>4</td>\n",
       "      <td>0.464998</td>\n",
       "      <td>0.396429</td>\n",
       "      <td>0.450293</td>\n",
       "      <td>0.509256</td>\n",
       "      <td>0.338975</td>\n",
       "      <td>0.431990</td>\n",
       "      <td>0.058841</td>\n",
       "    </tr>\n",
       "    <tr>\n",
       "      <td>3</td>\n",
       "      <td>0.006248</td>\n",
       "      <td>0.007652</td>\n",
       "      <td>0.000000</td>\n",
       "      <td>0.000000</td>\n",
       "      <td>4</td>\n",
       "      <td>{'n_features_to_select': 4}</td>\n",
       "      <td>0.306709</td>\n",
       "      <td>0.307968</td>\n",
       "      <td>0.095911</td>\n",
       "      <td>-0.158638</td>\n",
       "      <td>...</td>\n",
       "      <td>0.228469</td>\n",
       "      <td>0.249342</td>\n",
       "      <td>2</td>\n",
       "      <td>0.497044</td>\n",
       "      <td>0.444829</td>\n",
       "      <td>0.519558</td>\n",
       "      <td>0.546783</td>\n",
       "      <td>0.399390</td>\n",
       "      <td>0.481521</td>\n",
       "      <td>0.052988</td>\n",
       "    </tr>\n",
       "    <tr>\n",
       "      <td>4</td>\n",
       "      <td>0.003125</td>\n",
       "      <td>0.006250</td>\n",
       "      <td>0.001305</td>\n",
       "      <td>0.002609</td>\n",
       "      <td>5</td>\n",
       "      <td>{'n_features_to_select': 5}</td>\n",
       "      <td>0.419982</td>\n",
       "      <td>0.339319</td>\n",
       "      <td>0.172230</td>\n",
       "      <td>-0.223612</td>\n",
       "      <td>...</td>\n",
       "      <td>0.265952</td>\n",
       "      <td>0.284331</td>\n",
       "      <td>1</td>\n",
       "      <td>0.518915</td>\n",
       "      <td>0.489650</td>\n",
       "      <td>0.546214</td>\n",
       "      <td>0.588232</td>\n",
       "      <td>0.440164</td>\n",
       "      <td>0.516635</td>\n",
       "      <td>0.050164</td>\n",
       "    </tr>\n",
       "  </tbody>\n",
       "</table>\n",
       "<p>5 rows × 21 columns</p>\n",
       "</div>"
      ],
      "text/plain": [
       "   mean_fit_time  std_fit_time  mean_score_time  std_score_time  \\\n",
       "0       0.006249      0.007654         0.000000        0.000000   \n",
       "1       0.010683      0.009038         0.000000        0.000000   \n",
       "2       0.006241      0.007643         0.000000        0.000000   \n",
       "3       0.006248      0.007652         0.000000        0.000000   \n",
       "4       0.003125      0.006250         0.001305        0.002609   \n",
       "\n",
       "  param_n_features_to_select                       params  split0_test_score  \\\n",
       "0                          1  {'n_features_to_select': 1}           0.138900   \n",
       "1                          2  {'n_features_to_select': 2}           0.117644   \n",
       "2                          3  {'n_features_to_select': 3}           0.297021   \n",
       "3                          4  {'n_features_to_select': 4}           0.306709   \n",
       "4                          5  {'n_features_to_select': 5}           0.419982   \n",
       "\n",
       "   split1_test_score  split2_test_score  split3_test_score  ...  \\\n",
       "0           0.277623           0.129906           0.058850  ...   \n",
       "1           0.374165           0.016898          -0.160766  ...   \n",
       "2           0.299018           0.072815          -0.145665  ...   \n",
       "3           0.307968           0.095911          -0.158638  ...   \n",
       "4           0.339319           0.172230          -0.223612  ...   \n",
       "\n",
       "   mean_test_score  std_test_score  rank_test_score  split0_train_score  \\\n",
       "0         0.204397        0.127639                3            0.332839   \n",
       "1         0.153638        0.218430                5            0.395089   \n",
       "2         0.200745        0.216136                4            0.464998   \n",
       "3         0.228469        0.249342                2            0.497044   \n",
       "4         0.265952        0.284331                1            0.518915   \n",
       "\n",
       "   split1_train_score  split2_train_score  split3_train_score  \\\n",
       "0            0.295554            0.311019            0.323215   \n",
       "1            0.337541            0.382904            0.443917   \n",
       "2            0.396429            0.450293            0.509256   \n",
       "3            0.444829            0.519558            0.546783   \n",
       "4            0.489650            0.546214            0.588232   \n",
       "\n",
       "   split4_train_score  mean_train_score  std_train_score  \n",
       "0            0.205596          0.293645         0.045757  \n",
       "1            0.286032          0.369097         0.053591  \n",
       "2            0.338975          0.431990         0.058841  \n",
       "3            0.399390          0.481521         0.052988  \n",
       "4            0.440164          0.516635         0.050164  \n",
       "\n",
       "[5 rows x 21 columns]"
      ]
     },
     "execution_count": 370,
     "metadata": {},
     "output_type": "execute_result"
    }
   ],
   "source": [
    "# call GridSearchCV()\n",
    "model_cv = GridSearchCV(estimator = rfe, \n",
    "                        param_grid = hyper_params, \n",
    "                        scoring= 'r2', \n",
    "                        cv = folds, \n",
    "                        verbose = 1,\n",
    "                        return_train_score=True)      \n",
    "\n",
    "# fit the model\n",
    "model_cv.fit(X_train, y_train)   \n",
    "\n",
    "# cv results\n",
    "cv_results = pd.DataFrame(model_cv.cv_results_)\n",
    "cv_results"
   ]
  },
  {
   "cell_type": "markdown",
   "metadata": {},
   "source": [
    "#### Plotting CV results"
   ]
  },
  {
   "cell_type": "code",
   "execution_count": 371,
   "metadata": {},
   "outputs": [
    {
     "data": {
      "text/plain": [
       "<matplotlib.legend.Legend at 0x1e37c35cf88>"
      ]
     },
     "execution_count": 371,
     "metadata": {},
     "output_type": "execute_result"
    },
    {
     "data": {
      "image/png": "[encoded data removed]",
      "text/plain": [
       "<Figure size 1152x432 with 1 Axes>"
      ]
     },
     "metadata": {
      "needs_background": "light"
     },
     "output_type": "display_data"
    }
   ],
   "source": [
    "# plotting cv results\n",
    "plt.figure(figsize=(16,6))\n",
    "\n",
    "plt.plot(cv_results[\"param_n_features_to_select\"], cv_results[\"mean_test_score\"])\n",
    "plt.plot(cv_results[\"param_n_features_to_select\"], cv_results[\"mean_train_score\"])\n",
    "plt.xlabel('number of features')\n",
    "plt.ylabel('r-squared')\n",
    "plt.title(\"Optimal Number of Features\")\n",
    "plt.legend(['test score', 'train score'], loc='upper left')"
   ]
  },
  {
   "cell_type": "code",
   "execution_count": 284,
   "metadata": {},
   "outputs": [
    {
     "data": {
      "text/plain": [
       "{'n_features_to_select': 5}"
      ]
     },
     "execution_count": 284,
     "metadata": {},
     "output_type": "execute_result"
    }
   ],
   "source": [
    "model_cv.best_params_"
   ]
  },
  {
   "cell_type": "markdown",
   "metadata": {},
   "source": [
    "### Fit with a different model and a different p. "
   ]
  },
  {
   "cell_type": "markdown",
   "metadata": {},
   "source": [
    "#### MODEL - SVR P = 15"
   ]
  },
  {
   "cell_type": "code",
   "execution_count": 296,
   "metadata": {},
   "outputs": [],
   "source": [
    "from sklearn.svm import SVR\n",
    "from sklearn.metrics import mean_squared_error\n",
    "svm = SVR(gamma='auto')"
   ]
  },
  {
   "cell_type": "code",
   "execution_count": 297,
   "metadata": {},
   "outputs": [],
   "source": [
    "p = 15"
   ]
  },
  {
   "cell_type": "code",
   "execution_count": 158,
   "metadata": {},
   "outputs": [
    {
     "name": "stdout",
     "output_type": "stream",
     "text": [
      "LEGENDRE R-squared: 0.6512863777266 MSE: 0.012613445968155168\n",
      "FOURIER  R-squared: 0.7259009617437868 MSE: 0.00991453498841926\n"
     ]
    },
    {
     "data": {
      "image/png": "[encoded data removed]",
      "text/plain": [
       "<Figure size 864x288 with 4 Axes>"
      ]
     },
     "metadata": {
      "needs_background": "light"
     },
     "output_type": "display_data"
    }
   ],
   "source": [
    "fig, ax = plt.subplots(1, 2, figsize=(12, 4))\n",
    "ax1 = fig.add_subplot(121)\n",
    "ax2 = fig.add_subplot(122)\n",
    "\n",
    "X = legendre(t,p)   # LEGENDRE\n",
    "svr = svm.fit(X.T, y)\n",
    "yfit = svr.predict(X.T)\n",
    "\n",
    "ax1.scatter(X.T[:,1], y, s=2, color=\"blue\", label=\"original\")\n",
    "ax1.scatter(X.T[:,1], yfit, s=2, color=\"red\", label=\"fitted\")\n",
    "ax1.set_title('legendre dataset')\n",
    "ax1.set_frame_on(False)\n",
    "\n",
    "score = svr.score(X.T,y)\n",
    "print(\"LEGENDRE R-squared:\", score,\"MSE:\", mean_squared_error(y, yfit))\n",
    "\n",
    "X = fourier(t,p)   # FOURIER\n",
    "svr = svm.fit(X.T, y)\n",
    "yfit = svr.predict(X.T)\n",
    "\n",
    "ax2.scatter(X.T[:,1], y, s=5, color=\"blue\", label=\"original\")\n",
    "ax2.scatter(X.T[:,1], yfit, s=2, color=\"red\", label=\"fitted\")\n",
    "ax2.set_title('fourier dataset')\n",
    "ax2.legend()\n",
    "ax2.set_frame_on(False)\n",
    "\n",
    "score = svr.score(X.T,y)\n",
    "print(\"FOURIER  R-squared:\", score,\"MSE:\", mean_squared_error(y, yfit))"
   ]
  },
  {
   "cell_type": "code",
   "execution_count": null,
   "metadata": {},
   "outputs": [],
   "source": []
  }
 ],
 "metadata": {
  "kernelspec": {
   "display_name": "Python 3",
   "language": "python",
   "name": "python3"
  },
  "language_info": {
   "codemirror_mode": {
    "name": "ipython",
    "version": 3
   },
   "file_extension": ".py",
   "mimetype": "text/x-python",
   "name": "python",
   "nbconvert_exporter": "python",
   "pygments_lexer": "ipython3",
   "version": "3.7.4"
  }
 },
 "nbformat": 4,
 "nbformat_minor": 2
}
