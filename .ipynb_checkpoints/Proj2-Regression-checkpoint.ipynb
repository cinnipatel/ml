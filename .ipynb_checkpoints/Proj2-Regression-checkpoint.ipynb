{
 "cells": [
  {
   "cell_type": "code",
   "execution_count": 1,
   "metadata": {},
   "outputs": [],
   "source": [
    "import numpy as np\n",
    "import pandas as pd\n",
    "%matplotlib inline\n",
    "import matplotlib as mpl\n",
    "import matplotlib.pyplot as plt\n",
    "from scipy import special"
   ]
  },
  {
   "cell_type": "code",
   "execution_count": 2,
   "metadata": {},
   "outputs": [],
   "source": [
    "t = np.array([-0.49,  0.48, -0.19,  0.24, -0.08,  0.49, -0.21, -0.16, -0.13,\n",
    "        0.5 ,  0.09,  0.14, -0.27,  0.01,  0.37, -0.42, -0.45, -0.14,\n",
    "        0.17,  0.14, -0.38,  0.18, -0.45, -0.3 , -0.12,  0.02, -0.11,\n",
    "        0.38, -0.01,  0.12,  0.44,  0.32,  0.2 , -0.26,  0.04,  0.23,\n",
    "        0.18,  0.14,  0.15, -0.21, -0.41,  0.06, -0.25, -0.31, -0.42,\n",
    "       -0.09,  0.34, -0.05,  0.21,  0.26,  0.27,  0.27, -0.28, -0.49,\n",
    "        0.01,  0.29, -0.15,  0.34,  0.49,  0.03, -0.12,  0.15, -0.02,\n",
    "       -0.02,  0.24,  0.47, -0.06,  0.34, -0.29, -0.43, -0.09,  0.14,\n",
    "        0.23,  0.23,  0.08,  0.12, -0.42, -0.12, -0.19,  0.45, -0.36,\n",
    "       -0.08,  0.13, -0.16,  0.23,  0.44,  0.5 , -0.3 ,  0.45, -0.24,\n",
    "       -0.42,  0.28,  0.11, -0.47,  0.11, -0.27,  0.41,  0.46, -0.36,\n",
    "       -0.32, -0.05,  0.45, -0.08, -0.39, -0.34, -0.37,  0.32, -0.24,\n",
    "       -0.44, -0.03, -0.4 ,  0.47,  0.27, -0.32, -0.2 , -0.37, -0.13,\n",
    "       -0.07,  0.08, -0.44, -0.44,  0.43, -0.04,  0.09,  0.35, -0.02,\n",
    "       -0.12,  0.42, -0.39, -0.25, -0.45,  0.44, -0.02,  0.31, -0.48,\n",
    "        0.23, -0.07, -0.17,  0.4 ,  0.35, -0.2 ,  0.45, -0.1 ,  0.17,\n",
    "        0.21, -0.11, -0.3 ,  0.48,  0.31,  0.21,  0.2 ,  0.27,  0.47,\n",
    "       -0.39,  0.46,  0.31,  0.23,  0.5 , -0.43,  0.13, -0.34,  0.02,\n",
    "       -0.27,  0.3 , -0.18,  0.41,  0.17, -0.15,  0.29, -0.05, -0.39,\n",
    "        0.25,  0.28,  0.02, -0.21,  0.11,  0.16,  0.47,  0.1 ,  0.03,\n",
    "        0.22,  0.43,  0.16, -0.21, -0.16,  0.39,  0.25,  0.04, -0.4 ,\n",
    "        0.22,  0.46,  0.12,  0.15,  0.48, -0.48, -0.15, -0.42,  0.28,\n",
    "       -0.36,  0.31])\n",
    "\n",
    "y = np.array([-0.06, -0.09, -0.19,  0.  , -0.03, -0.18, -0.12, -0.31, -0.17,\n",
    "       -0.18,  0.09,  0.16, -0.28,  0.15, -0.04,  0.04,  0.06, -0.28,\n",
    "        0.18,  0.11,  0.27,  0.34,  0.11, -0.22, -0.18,  0.39, -0.29,\n",
    "       -0.06,  0.1 ,  0.08, -0.  , -0.02,  0.06, -0.35,  0.16,  0.28,\n",
    "       -0.03,  0.17,  0.37, -0.15,  0.19,  0.21, -0.29, -0.33,  0.08,\n",
    "       -0.24,  0.06,  0.02,  0.26,  0.07,  0.1 ,  0.09, -0.52,  0.03,\n",
    "        0.3 ,  0.1 , -0.15, -0.26, -0.26,  0.1 , -0.27,  0.11,  0.02,\n",
    "        0.1 ,  0.09, -0.23, -0.03, -0.21, -0.4 , -0.04, -0.17,  0.07,\n",
    "        0.08,  0.15,  0.27,  0.41,  0.07, -0.31, -0.29, -0.3 ,  0.06,\n",
    "       -0.1 ,  0.08, -0.29,  0.07, -0.2 ,  0.06, -0.25, -0.13, -0.34,\n",
    "        0.05,  0.21,  0.07,  0.13,  0.32, -0.26, -0.01, -0.17, -0.31,\n",
    "       -0.21,  0.11, -0.1 , -0.01,  0.16, -0.01,  0.1 , -0.1 , -0.28,\n",
    "        0.08, -0.09,  0.04, -0.07, -0.11, -0.35, -0.23,  0.05, -0.25,\n",
    "       -0.12,  0.15,  0.01,  0.17,  0.02, -0.01,  0.04, -0.21,  0.03,\n",
    "       -0.15,  0.08,  0.08, -0.38,  0.19, -0.18,  0.13, -0.03,  0.1 ,\n",
    "        0.1 , -0.05, -0.29, -0.36,  0.12, -0.42, -0.32, -0.  ,  0.22,\n",
    "        0.  , -0.36, -0.33,  0.06, -0.04,  0.18, -0.08, -0.22, -0.25,\n",
    "        0.09, -0.03, -0.17,  0.02, -0.09,  0.13,  0.24, -0.04,  0.15,\n",
    "       -0.44, -0.02, -0.24,  0.09,  0.17, -0.35, -0.15, -0.1 ,  0.08,\n",
    "        0.  ,  0.09,  0.22, -0.38,  0.06,  0.14, -0.26,  0.19,  0.41,\n",
    "        0.13, -0.13,  0.3 , -0.15, -0.02, -0.09, -0.07,  0.31,  0.04,\n",
    "       -0.02, -0.05,  0.07,  0.16, -0.21,  0.01, -0.2 , -0.09,  0.11,\n",
    "        0.08, -0.  ])"
   ]
  },
  {
   "cell_type": "code",
   "execution_count": 3,
   "metadata": {},
   "outputs": [
    {
     "data": {
      "text/plain": [
       "Text(0, 0.5, 'y')"
      ]
     },
     "execution_count": 3,
     "metadata": {},
     "output_type": "execute_result"
    },
    {
     "data": {
      "image/png": "[encoded data removed]",
      "text/plain": [
       "<Figure size 432x288 with 1 Axes>"
      ]
     },
     "metadata": {
      "needs_background": "light"
     },
     "output_type": "display_data"
    }
   ],
   "source": [
    "plt.plot(t, y, '.')\n",
    "plt.xlabel('t')\n",
    "plt.ylabel('y')"
   ]
  },
  {
   "cell_type": "code",
   "execution_count": 4,
   "metadata": {},
   "outputs": [],
   "source": [
    "def fourier(t, p):\n",
    "    n = t.size\n",
    "    return np.stack(\n",
    "        [np.cos(f * 2*np.pi*t) for f in range(0, (p+1)//2)] +\n",
    "        [np.sin(f * 2*np.pi*t) for f in range(1, (p+2)//2)])"
   ]
  },
  {
   "cell_type": "code",
   "execution_count": 5,
   "metadata": {},
   "outputs": [],
   "source": [
    "def legendre(t, p):\n",
    "    n = t.size\n",
    "    return np.stack(\n",
    "        [special.legendre(d)(t) for d in range(p)])"
   ]
  },
  {
   "cell_type": "markdown",
   "metadata": {},
   "source": [
    "### Compute performance measure (cost function - MSE)\n",
    "### Measure average cross-validated MSE. "
   ]
  },
  {
   "cell_type": "code",
   "execution_count": 92,
   "metadata": {},
   "outputs": [],
   "source": [
    "def find_ground_truth(feature,p,n_folds):\n",
    "    n=200        \n",
    "    mse_val = 0\n",
    "    mse_val_total = 0     \n",
    "    arr_mse = [];       \n",
    "    \n",
    "    dict = {};  # Store index of MSE values using dictionary\n",
    "    \n",
    "    for j in range(1,p+1):   #Iterate through Features\n",
    "        mse_val = 0;        \n",
    "        X = feature(t,j+1)    #Get X for given model                                \n",
    "        for train_index, test_index in folds.split(X.T,y):    #Iterate through folds\n",
    "            \n",
    "            X_train, X_test, y_train, y_test = X[:,train_index], X[:,test_index], \\\n",
    "                                               y[train_index], y[test_index]\n",
    "           \n",
    "            theta_hat=np.linalg.inv(X_train @ X_train.T) @ X_train @ y_train  # fit-train model\n",
    "            y_predict = theta_hat @ X_test             \n",
    "            mse_val += ((y_test - y_predict)**2).mean()  # compute cost function                  \n",
    "        \n",
    "        mse_val_total = mse_val/n_folds;        \n",
    "                \n",
    "        dict.update({mse_val_total:j})\n",
    "        arr_mse.append(mse_val_total)       \n",
    "                \n",
    "        plt.plot(t,theta_hat @ X, '.',label=str(j))\n",
    "        plt.legend(fontsize=7, loc=\"right\")\n",
    "    return arr_mse,dict;"
   ]
  },
  {
   "cell_type": "markdown",
   "metadata": {},
   "source": [
    "### Use 10-fold cross-validation to compare models. "
   ]
  },
  {
   "cell_type": "code",
   "execution_count": 93,
   "metadata": {},
   "outputs": [],
   "source": [
    "n_of_splits = 10\n",
    "n_of_features = 5"
   ]
  },
  {
   "cell_type": "code",
   "execution_count": 94,
   "metadata": {},
   "outputs": [],
   "source": [
    "from sklearn.model_selection import KFold\n",
    "folds = KFold(n_splits=n_of_splits)"
   ]
  },
  {
   "cell_type": "markdown",
   "metadata": {},
   "source": [
    "### Output: best model and best p."
   ]
  },
  {
   "cell_type": "code",
   "execution_count": 95,
   "metadata": {
    "scrolled": false
   },
   "outputs": [
    {
     "data": {
      "image/png": "[encoded data removed]",
      "text/plain": [
       "<Figure size 432x288 with 1 Axes>"
      ]
     },
     "metadata": {
      "needs_background": "light"
     },
     "output_type": "display_data"
    },
    {
     "data": {
      "image/png": "[encoded data removed]",
      "text/plain": [
       "<Figure size 432x288 with 1 Axes>"
      ]
     },
     "metadata": {
      "needs_background": "light"
     },
     "output_type": "display_data"
    },
    {
     "name": "stdout",
     "output_type": "stream",
     "text": [
      "Best Model : Fourier\n",
      "Number of Feature(s):  5  Min MSE: 0.014137183578989809\n"
     ]
    }
   ],
   "source": [
    "fourier_mse,fourier_dict = find_ground_truth(fourier,n_of_features,n_of_splits)\n",
    "fourier_min_mse=min(fourier_mse);    \n",
    "    \n",
    "plt.plot(t, y, '.') \n",
    "plt.title(\"Features in Fourier Model\")\n",
    "plt.show()\n",
    "\n",
    "legendre_mse,legendre_dict = find_ground_truth(legendre,n_of_features,n_of_splits)\n",
    "legendre_min_mse=min(legendre_mse);\n",
    "\n",
    "plt.plot(t, y, '.') \n",
    "plt.title(\"Features in Legendre Model\")\n",
    "plt.show()\n",
    "\n",
    "\n",
    "if(fourier_min_mse < legendre_min_mse):\n",
    "    print('Best Model : Fourier\\nNumber of Feature(s): ',fourier_dict.get(fourier_min_mse), ' Min MSE:',fourier_min_mse)\n",
    "else:\n",
    "    print('Best Model : Legegndre\\nNumber of Feature(s): ', legendre_dict.get(legendre_min_mse), ' Min MSE:',legendre_min_mse)    "
   ]
  },
  {
   "cell_type": "markdown",
   "metadata": {},
   "source": [
    "***\n",
    "### Cross Validation Score for different Models"
   ]
  },
  {
   "cell_type": "code",
   "execution_count": 75,
   "metadata": {},
   "outputs": [],
   "source": [
    "from sklearn.model_selection import cross_val_score\n",
    "from sklearn.metrics import accuracy_score"
   ]
  },
  {
   "cell_type": "markdown",
   "metadata": {},
   "source": [
    ">Logistic, RandomForest and SV Models will not be useful since this is not classification problem."
   ]
  },
  {
   "cell_type": "markdown",
   "metadata": {},
   "source": [
    "#### LinearRegression Model"
   ]
  },
  {
   "cell_type": "code",
   "execution_count": 16,
   "metadata": {},
   "outputs": [],
   "source": [
    "from sklearn.linear_model import LinearRegression"
   ]
  },
  {
   "cell_type": "code",
   "execution_count": 17,
   "metadata": {},
   "outputs": [
    {
     "data": {
      "text/plain": [
       "0.625961574846807"
      ]
     },
     "execution_count": 17,
     "metadata": {},
     "output_type": "execute_result"
    }
   ],
   "source": [
    "np.mean(cross_val_score(LinearRegression(), legendre(t,20).T, y, scoring='r2', cv=10))"
   ]
  },
  {
   "cell_type": "markdown",
   "metadata": {},
   "source": [
    "#### SVR Model"
   ]
  },
  {
   "cell_type": "code",
   "execution_count": 18,
   "metadata": {},
   "outputs": [],
   "source": [
    "from sklearn.svm import SVR\n",
    "from sklearn.metrics import mean_squared_error"
   ]
  },
  {
   "cell_type": "code",
   "execution_count": 19,
   "metadata": {},
   "outputs": [
    {
     "data": {
      "text/plain": [
       "0.6000705718453085"
      ]
     },
     "execution_count": 19,
     "metadata": {},
     "output_type": "execute_result"
    }
   ],
   "source": [
    "np.mean(cross_val_score(SVR(gamma='auto'), fourier(t,20).T, y,cv=10))"
   ]
  },
  {
   "cell_type": "markdown",
   "metadata": {},
   "source": [
    "#### Putting eveything togather\n",
    "---\n",
    "10 K Folds, 20 features"
   ]
  },
  {
   "cell_type": "code",
   "execution_count": 85,
   "metadata": {},
   "outputs": [],
   "source": [
    "folds=10\n",
    "p=20"
   ]
  },
  {
   "cell_type": "code",
   "execution_count": 79,
   "metadata": {},
   "outputs": [],
   "source": [
    "def check_accuracy(features,model):\n",
    "    arr_svr = [];\n",
    "    dict = {};  \n",
    "    for j in range(1,p+1):\n",
    "        if(model== \"SVM\"):\n",
    "            score=np.mean(cross_val_score(SVR(gamma='auto'), features(t,j).T, y,cv=folds))            \n",
    "        else:\n",
    "            score=np.mean(cross_val_score(LinearRegression(), features(t,j).T, y, scoring='r2', cv=10))\n",
    "        arr_svr.append(score)\n",
    "        dict.update({score:j})    \n",
    "    return dict,arr_svr;"
   ]
  },
  {
   "cell_type": "code",
   "execution_count": 83,
   "metadata": {},
   "outputs": [],
   "source": [
    "def check_models(model):\n",
    "    dict_fourier,arr_f_score = check_accuracy(fourier,model)\n",
    "    dict_legendre,arr_l_score = check_accuracy(legendre,model)\n",
    "\n",
    "    max_f_score=max(arr_f_score)\n",
    "    max_l_score=max(arr_l_score)\n",
    "\n",
    "    if(max_f_score>max_l_score):\n",
    "        print('\\nModel:',model,'\\nSource with high score: Fourier \\nAccuracy: ',max_f_score, 'Features:',dict_fourier.get(max_f_score))\n",
    "    else:\n",
    "        print('\\nModel:',model,'\\nSource with high score: Legendre \\nAccuracy: ',max_l_score, 'Features:',dict_legendre.get(max_l_score))\n",
    "    return;"
   ]
  },
  {
   "cell_type": "code",
   "execution_count": 84,
   "metadata": {},
   "outputs": [
    {
     "name": "stdout",
     "output_type": "stream",
     "text": [
      "\n",
      "Model: Linear Regression \n",
      "Source with high score: Legendre \n",
      "Accuracy:  0.6098466641853253 Features: 7\n"
     ]
    }
   ],
   "source": [
    "check_models(\"Linear Regression\")"
   ]
  },
  {
   "cell_type": "code",
   "execution_count": 85,
   "metadata": {},
   "outputs": [
    {
     "name": "stdout",
     "output_type": "stream",
     "text": [
      "\n",
      "Model: SVM \n",
      "Source with high score: Fourier \n",
      "Accuracy:  0.6675567648992817 Features: 6\n"
     ]
    }
   ],
   "source": [
    "check_models(\"SVM\")"
   ]
  },
  {
   "cell_type": "markdown",
   "metadata": {},
   "source": [
    "### Hyperparameter Tuning Using Grid Search Cross-Validation\n",
    "\n",
    "#### A common use of cross-validation is for tuning hyperparameters of a model. The most common technique is what is called grid search cross-validation\n",
    "\n",
    "---\n",
    "GridSearchCV should be used to find the optimal parameters to train your final model. Typically, you should run GridSearchCV then look at the parameters that gave the model with the best score. You should then take these parameters and train your final model on all of the data. "
   ]
  },
  {
   "cell_type": "code",
   "execution_count": 55,
   "metadata": {},
   "outputs": [],
   "source": [
    "from sklearn.model_selection import train_test_split\n",
    "from sklearn.model_selection import GridSearchCV\n",
    "from sklearn.linear_model import LinearRegression\n",
    "from sklearn import linear_model"
   ]
  },
  {
   "cell_type": "markdown",
   "metadata": {},
   "source": [
    "---\n",
    "10 K Folds, 20 features"
   ]
  },
  {
   "cell_type": "code",
   "execution_count": 68,
   "metadata": {},
   "outputs": [],
   "source": [
    "folds=5\n",
    "p=10"
   ]
  },
  {
   "cell_type": "markdown",
   "metadata": {},
   "source": [
    "--- \n",
    "Ignore future version warnings"
   ]
  },
  {
   "cell_type": "code",
   "execution_count": 69,
   "metadata": {},
   "outputs": [],
   "source": [
    "from warnings import simplefilter\n",
    "simplefilter(action='ignore', category=FutureWarning)\n",
    "simplefilter(action='ignore', category=DeprecationWarning)"
   ]
  },
  {
   "cell_type": "code",
   "execution_count": 86,
   "metadata": {},
   "outputs": [],
   "source": [
    "def grid_cv(features):\n",
    "    \n",
    "    X =features(t,p+1)\n",
    "    \n",
    "    X_train, X_test, y_train, y_test = train_test_split(X.T, y, test_size=folds/100)\n",
    "\n",
    "    model = linear_model.LinearRegression()\n",
    "    parameters = {'fit_intercept':[True,False], 'normalize':[True,False], 'copy_X':[True, False]}\n",
    "\n",
    "    grid = GridSearchCV(model,parameters, cv=None)\n",
    "    grid.fit(X_train, y_train)\n",
    "    print('R2 / variance : ', grid.best_score_)\n",
    "    print('Residual sum of squares : %.2f' % np.mean((grid.predict(X_test) - y_test) ** 2))\n",
    "    print('Best Params : ',grid.best_params_)\n",
    "   \n",
    "    #df_cv_results = pd.DataFrame(grid.cv_results_)\n",
    "    #df_cv_results      \n",
    "    \n",
    "    return;"
   ]
  },
  {
   "cell_type": "code",
   "execution_count": 87,
   "metadata": {},
   "outputs": [
    {
     "name": "stdout",
     "output_type": "stream",
     "text": [
      "R2 / variance :  0.5890567532542974\n",
      "Residual sum of squares : 0.01\n",
      "Best Params :  {'copy_X': True, 'fit_intercept': False, 'normalize': True}\n"
     ]
    }
   ],
   "source": [
    "grid_cv(legendre)"
   ]
  },
  {
   "cell_type": "code",
   "execution_count": 88,
   "metadata": {},
   "outputs": [
    {
     "name": "stdout",
     "output_type": "stream",
     "text": [
      "R2 / variance :  0.646961447706867\n",
      "Residual sum of squares : 0.01\n",
      "Best Params :  {'copy_X': True, 'fit_intercept': True, 'normalize': False}\n"
     ]
    }
   ],
   "source": [
    "grid_cv(fourier)"
   ]
  },
  {
   "cell_type": "markdown",
   "metadata": {},
   "source": [
    "### Plotting Grid Search results"
   ]
  },
  {
   "cell_type": "markdown",
   "metadata": {},
   "source": [
    "> PLOT GOES HERE"
   ]
  },
  {
   "cell_type": "markdown",
   "metadata": {},
   "source": [
    "### Fit with a different model and a different p and Visualize Fit. "
   ]
  },
  {
   "cell_type": "markdown",
   "metadata": {},
   "source": [
    "#### MODEL - SVR P = 20"
   ]
  },
  {
   "cell_type": "code",
   "execution_count": 89,
   "metadata": {},
   "outputs": [],
   "source": [
    "from sklearn.svm import SVR\n",
    "from sklearn.metrics import mean_squared_error\n",
    "svm = SVR(gamma='auto')"
   ]
  },
  {
   "cell_type": "code",
   "execution_count": 90,
   "metadata": {},
   "outputs": [],
   "source": [
    "p = 20"
   ]
  },
  {
   "cell_type": "code",
   "execution_count": null,
   "metadata": {},
   "outputs": [],
   "source": [
    "fig, ax = plt.subplots(1, 2, figsize=(12, 4))\n",
    "ax1 = fig.add_subplot(121)\n",
    "ax2 = fig.add_subplot(122)\n",
    "\n",
    "X = legendre(t,p)   # LEGENDRE\n",
    "svr = svm.fit(X.T, y)\n",
    "yfit = svr.predict(X.T)\n",
    "\n",
    "ax1.scatter(X.T[:,1], y, s=2, color=\"blue\", label=\"original\")\n",
    "ax1.scatter(X.T[:,1], yfit, s=2, color=\"red\", label=\"fitted\")\n",
    "ax1.set_title('legendre dataset')\n",
    "ax1.set_frame_on(False)\n",
    "\n",
    "score = svr.score(X.T,y)\n",
    "print(\"LEGENDRE R-squared:\", score,\"MSE:\", mean_squared_error(y, yfit))\n",
    "\n",
    "X = fourier(t,p)   # FOURIER\n",
    "svr = svm.fit(X.T, y)\n",
    "yfit = svr.predict(X.T)\n",
    "\n",
    "ax2.scatter(X.T[:,1], y, s=5, color=\"blue\", label=\"original\")\n",
    "ax2.scatter(X.T[:,1], yfit, s=2, color=\"red\", label=\"fitted\")\n",
    "ax2.set_title('fourier dataset')\n",
    "ax2.legend()\n",
    "ax2.set_frame_on(False)\n",
    "\n",
    "score = svr.score(X.T,y)\n",
    "print(\"FOURIER  R-squared:\", score,\"MSE:\", mean_squared_error(y, yfit))"
   ]
  },
  {
   "cell_type": "code",
   "execution_count": 91,
   "metadata": {},
   "outputs": [
    {
     "name": "stdout",
     "output_type": "stream",
     "text": [
      "LEGENDRE R-squared: 0.6549202795988402 MSE: 0.012482002795329697\n",
      "FOURIER  R-squared: 0.7318015185210123 MSE: 0.009701103825029799\n"
     ]
    },
    {
     "data": {
      "image/png": "[encoded data removed]",
      "text/plain": [
       "<Figure size 864x288 with 4 Axes>"
      ]
     },
     "metadata": {
      "needs_background": "light"
     },
     "output_type": "display_data"
    }
   ],
   "source": [
    "fig, ax = plt.subplots(1, 2, figsize=(12, 4))\n",
    "ax1 = fig.add_subplot(121)\n",
    "ax2 = fig.add_subplot(122)\n",
    "\n",
    "X = legendre(t,p)   # LEGENDRE\n",
    "svr = svm.fit(X.T, y)\n",
    "yfit = svr.predict(X.T)\n",
    "\n",
    "ax1.scatter(X.T[:,1], y, s=2, color=\"blue\", label=\"original\")\n",
    "ax1.scatter(X.T[:,1], yfit, s=2, color=\"red\", label=\"fitted\")\n",
    "ax1.set_title('legendre dataset')\n",
    "ax1.set_frame_on(False)\n",
    "\n",
    "score = svr.score(X.T,y)\n",
    "print(\"LEGENDRE R-squared:\", score,\"MSE:\", mean_squared_error(y, yfit))\n",
    "\n",
    "X = fourier(t,p)   # FOURIER\n",
    "svr = svm.fit(X.T, y)\n",
    "yfit = svr.predict(X.T)\n",
    "\n",
    "ax2.scatter(X.T[:,1], y, s=5, color=\"blue\", label=\"original\")\n",
    "ax2.scatter(X.T[:,1], yfit, s=2, color=\"red\", label=\"fitted\")\n",
    "ax2.set_title('fourier dataset')\n",
    "ax2.legend()\n",
    "ax2.set_frame_on(False)\n",
    "\n",
    "score = svr.score(X.T,y)\n",
    "print(\"FOURIER  R-squared:\", score,\"MSE:\", mean_squared_error(y, yfit))"
   ]
  },
  {
   "cell_type": "code",
   "execution_count": null,
   "metadata": {},
   "outputs": [],
   "source": []
  }
 ],
 "metadata": {
  "kernelspec": {
   "display_name": "Python 3",
   "language": "python",
   "name": "python3"
  },
  "language_info": {
   "codemirror_mode": {
    "name": "ipython",
    "version": 3
   },
   "file_extension": ".py",
   "mimetype": "text/x-python",
   "name": "python",
   "nbconvert_exporter": "python",
   "pygments_lexer": "ipython3",
   "version": "3.7.4"
  }
 },
 "nbformat": 4,
 "nbformat_minor": 2
}
